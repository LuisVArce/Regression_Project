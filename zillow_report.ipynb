{
 "cells": [
  {
   "cell_type": "code",
   "execution_count": 1,
   "id": "597d4da1",
   "metadata": {},
   "outputs": [],
   "source": [
    "import datetime\n",
    "import numpy as np\n",
    "import pandas as pd\n",
    "import seaborn as sns\n",
    "import matplotlib.pyplot as plt\n",
    "\n",
    "import env\n",
    "from env import user, password, host\n",
    "from scipy import stats\n",
    "from acquire import get_zillow\n",
    "from prepare import clean_zillow_dataset\n",
    "from scipy.stats import pearsonr, spearmanr\n",
    "\n",
    "import sklearn.preprocessing\n",
    "from sklearn.linear_model import LinearRegression\n",
    "from sklearn.metrics import mean_squared_error\n",
    "from sklearn.feature_selection import SelectKBest, f_regression, RFE, SequentialFeatureSelector\n",
    "\n",
    "#from evaluate import select_kbest_feature_engineering, rfe_feature_engineering\n",
    "#from evaluate import scaled_data, assessed_value_regression_plot, baseline_vs_model_regression\n",
    "\n",
    "from sklearn.preprocessing import PolynomialFeatures\n",
    "from sklearn.linear_model import LinearRegression, LassoLars, TweedieRegressor"
   ]
  },
  {
   "cell_type": "code",
   "execution_count": 3,
   "id": "dc4e1fe6",
   "metadata": {},
   "outputs": [
    {
     "ename": "NameError",
     "evalue": "name 'query' is not defined",
     "output_type": "error",
     "traceback": [
      "\u001b[0;31m---------------------------------------------------------------------------\u001b[0m",
      "\u001b[0;31mNameError\u001b[0m                                 Traceback (most recent call last)",
      "Input \u001b[0;32mIn [3]\u001b[0m, in \u001b[0;36m<cell line: 1>\u001b[0;34m()\u001b[0m\n\u001b[0;32m----> 1\u001b[0m df \u001b[38;5;241m=\u001b[39m pd\u001b[38;5;241m.\u001b[39mread_sql(\u001b[43mquery\u001b[49m, get_db_url(\u001b[38;5;124m\"\u001b[39m\u001b[38;5;124mzillow\u001b[39m\u001b[38;5;124m\"\u001b[39m))\n\u001b[1;32m      2\u001b[0m df \u001b[38;5;241m=\u001b[39m get_zillow()\n\u001b[1;32m      3\u001b[0m df \u001b[38;5;241m=\u001b[39m clean_zillow_dataset(df)\n",
      "\u001b[0;31mNameError\u001b[0m: name 'query' is not defined"
     ]
    }
   ],
   "source": [
    "\n",
    "\n",
    "df = pd.read_sql(query, get_db_url(\"zillow\"))\n",
    "df = get_zillow()\n",
    "df = clean_zillow_dataset(df)\n",
    "df.head()"
   ]
  },
  {
   "cell_type": "code",
   "execution_count": null,
   "id": "8bd8e392",
   "metadata": {},
   "outputs": [],
   "source": [
    "#Find all of the \"Single Family Residential\" properties from 2017.\n",
    "query = \"\"\"\n",
    "SELECT\n",
    "                bedroomcnt as bedroom_count,\n",
    "                bathroomcnt as bath_count,\n",
    "                calculatedfinishedsquarefeet as finished_sq_feet,\n",
    "                taxvaluedollarcnt as home_value,\n",
    "                yearbuilt as year_built,\n",
    "                taxamount as tax_amount,\n",
    "                fips\n",
    "        FROM properties_2017\n",
    "        JOIN propertylandusetype using (propertylandusetypeid)\n",
    "        JOIN predictions_2017 ON properties_2017.id = predictions_2017.id\n",
    "        WHERE propertylandusetype.propertylandusedesc = \"Single Family Residential\"\n",
    "        AND predictions_2017.transactiondate LIKE \"2017%%\"\n",
    "\"\"\""
   ]
  },
  {
   "cell_type": "code",
   "execution_count": null,
   "id": "11062ce0",
   "metadata": {},
   "outputs": [],
   "source": []
  },
  {
   "cell_type": "code",
   "execution_count": null,
   "id": "cee7f455",
   "metadata": {},
   "outputs": [],
   "source": []
  },
  {
   "cell_type": "code",
   "execution_count": null,
   "id": "9171f9df",
   "metadata": {},
   "outputs": [],
   "source": []
  },
  {
   "cell_type": "code",
   "execution_count": null,
   "id": "9bf98eb9",
   "metadata": {},
   "outputs": [],
   "source": []
  },
  {
   "cell_type": "code",
   "execution_count": null,
   "id": "91624849",
   "metadata": {},
   "outputs": [],
   "source": []
  },
  {
   "cell_type": "code",
   "execution_count": null,
   "id": "59bfbfaa",
   "metadata": {},
   "outputs": [],
   "source": []
  },
  {
   "cell_type": "code",
   "execution_count": null,
   "id": "368d1bb4",
   "metadata": {},
   "outputs": [],
   "source": []
  }
 ],
 "metadata": {
  "kernelspec": {
   "display_name": "Python 3 (ipykernel)",
   "language": "python",
   "name": "python3"
  },
  "language_info": {
   "codemirror_mode": {
    "name": "ipython",
    "version": 3
   },
   "file_extension": ".py",
   "mimetype": "text/x-python",
   "name": "python",
   "nbconvert_exporter": "python",
   "pygments_lexer": "ipython3",
   "version": "3.9.12"
  }
 },
 "nbformat": 4,
 "nbformat_minor": 5
}
